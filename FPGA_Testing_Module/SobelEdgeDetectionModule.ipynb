{
  "nbformat": 4,
  "nbformat_minor": 0,
  "metadata": {
    "colab": {
      "provenance": []
    },
    "kernelspec": {
      "name": "python3",
      "display_name": "Python 3"
    },
    "language_info": {
      "name": "python"
    }
  },
  "cells": [
    {
      "cell_type": "code",
      "execution_count": null,
      "metadata": {
        "id": "2SQKLmVojvCz"
      },
      "outputs": [],
      "source": [
        "class SobelEdgeDetection:\n",
        "  def __init__(self):\n",
        "    import cv2\n",
        "    import numpy as np\n",
        "    import matplotlib.pyplot as plt\n",
        "\n",
        "    # Load the image\n",
        "    img_original = cv2.imread('Sobel Edge Detection.jpg')\n",
        "\n",
        "    # Convert the image to grayscale\n",
        "    gray = cv2.cvtColor(img_original, cv2.COLOR_BGR2GRAY)\n",
        "\n",
        "    # Apply the Gaussian Blur to reduce noise\n",
        "    img = cv2.GaussianBlur(gray, (3, 3), 0)\n",
        "\n",
        "    # Apply the Sobel Edge Detection\n",
        "    sobel_x = cv2.Sobel(img, cv2.CV_64F, 1, 0, ksize=5)\n",
        "    sobel_y = cv2.Sobel(img, cv2.CV_64F, 0, 1, ksize=5)\n",
        "    sobel = np.sqrt(np.square(sobel_x) + np.square(sobel_y))\n",
        "    sobel = np.uint8(255 * sobel / np.max(sobel))\n",
        "\n",
        "    # Plot the original image\n",
        "    plt.figure(figsize=(10, 10))\n",
        "    plt.imshow(cv2.cvtColor(img_original, cv2.COLOR_BGR2RGB))\n",
        "    plt.title('Original Image')\n",
        "    plt.show()\n",
        "\n",
        "    # Plot the grayscale image\n",
        "    plt.figure(figsize=(10, 10))\n",
        "    plt.imshow(gray, cmap='gray')\n",
        "    plt.title('Grayscale Image')\n",
        "    plt.show()\n",
        "\n",
        "    # Plot the Sobel Edge Detection\n",
        "    plt.figure(figsize=(10, 10))\n",
        "    plt.imshow(sobel, cmap='gray')\n",
        "    plt.title('Sobel Edge Detection')\n",
        "    plt.show()\n"
      ]
    }
  ]
}